{
 "cells": [
  {
   "cell_type": "code",
   "execution_count": 18,
   "metadata": {
    "collapsed": true
   },
   "outputs": [],
   "source": [
    "import pandas as pd\n",
    "import sqlite3\n",
    "import matplotlib.pyplot as plt\n",
    "import numpy as np"
   ]
  },
  {
   "cell_type": "code",
   "execution_count": 20,
   "outputs": [
    {
     "name": "stdout",
     "output_type": "stream",
     "text": [
      "FPA_FOD_20170508.sqlite\n",
      "\n"
     ]
    }
   ],
   "source": [
    "from subprocess import check_output\n",
    "print(check_output([\"ls\", \"../data/raw\"]).decode(\"utf8\"))"
   ],
   "metadata": {
    "collapsed": false,
    "pycharm": {
     "name": "#%%\n"
    }
   }
  },
  {
   "cell_type": "code",
   "execution_count": 9,
   "outputs": [],
   "source": [
    "# Read sqlite query results into a pandas DataFrame\n",
    "con = sqlite3.connect(\"../data/raw/FPA_FOD_20170508.sqlite\")"
   ],
   "metadata": {
    "collapsed": false,
    "pycharm": {
     "name": "#%%\n"
    }
   }
  },
  {
   "cell_type": "code",
   "execution_count": 10,
   "outputs": [
    {
     "name": "stdout",
     "output_type": "stream",
     "text": [
      "   OBJECTID  FOD_ID      FPA_ID SOURCE_SYSTEM_TYPE SOURCE_SYSTEM  \\\n",
      "0         1       1  FS-1418826                FED   FS-FIRESTAT   \n",
      "1         2       2  FS-1418827                FED   FS-FIRESTAT   \n",
      "2         3       3  FS-1418835                FED   FS-FIRESTAT   \n",
      "3         4       4  FS-1418845                FED   FS-FIRESTAT   \n",
      "4         5       5  FS-1418847                FED   FS-FIRESTAT   \n",
      "\n",
      "  NWCG_REPORTING_AGENCY NWCG_REPORTING_UNIT_ID  NWCG_REPORTING_UNIT_NAME  \\\n",
      "0                    FS                USCAPNF    Plumas National Forest   \n",
      "1                    FS                USCAENF  Eldorado National Forest   \n",
      "2                    FS                USCAENF  Eldorado National Forest   \n",
      "3                    FS                USCAENF  Eldorado National Forest   \n",
      "4                    FS                USCAENF  Eldorado National Forest   \n",
      "\n",
      "  SOURCE_REPORTING_UNIT SOURCE_REPORTING_UNIT_NAME  ... FIRE_SIZE_CLASS  \\\n",
      "0                  0511     Plumas National Forest  ...               A   \n",
      "1                  0503   Eldorado National Forest  ...               A   \n",
      "2                  0503   Eldorado National Forest  ...               A   \n",
      "3                  0503   Eldorado National Forest  ...               A   \n",
      "4                  0503   Eldorado National Forest  ...               A   \n",
      "\n",
      "    LATITUDE   LONGITUDE OWNER_CODE       OWNER_DESCR STATE COUNTY FIPS_CODE  \\\n",
      "0  40.036944 -121.005833        5.0              USFS    CA     63       063   \n",
      "1  38.933056 -120.404444        5.0              USFS    CA     61       061   \n",
      "2  38.984167 -120.735556       13.0  STATE OR PRIVATE    CA     17       017   \n",
      "3  38.559167 -119.913333        5.0              USFS    CA      3       003   \n",
      "4  38.559167 -119.933056        5.0              USFS    CA      3       003   \n",
      "\n",
      "   FIPS_NAME                                              Shape  \n",
      "0     Plumas  b'\\x00\\x01\\xad\\x10\\x00\\x00\\xe8d\\xc2\\x92_@^\\xc0...  \n",
      "1     Placer  b'\\x00\\x01\\xad\\x10\\x00\\x00T\\xb6\\xeej\\xe2\\x19^\\...  \n",
      "2  El Dorado  b'\\x00\\x01\\xad\\x10\\x00\\x00\\xd0\\xa5\\xa0W\\x13/^\\...  \n",
      "3     Alpine  b'\\x00\\x01\\xad\\x10\\x00\\x00\\x94\\xac\\xa3\\rt\\xfa]...  \n",
      "4     Alpine  b'\\x00\\x01\\xad\\x10\\x00\\x00@\\xe3\\xaa.\\xb7\\xfb]\\...  \n",
      "\n",
      "[5 rows x 39 columns]\n"
     ]
    }
   ],
   "source": [
    "df = pd.read_sql_query(\"SELECT * from Fires\", con)\n",
    "\n",
    "# Verify that result of SQL query is stored in the dataframe\n",
    "print(df.head())"
   ],
   "metadata": {
    "collapsed": false,
    "pycharm": {
     "name": "#%%\n"
    }
   }
  },
  {
   "cell_type": "code",
   "execution_count": 22,
   "outputs": [
    {
     "name": "stdout",
     "output_type": "stream",
     "text": [
      "<class 'pandas.core.frame.DataFrame'>\n",
      "RangeIndex: 1880465 entries, 0 to 1880464\n",
      "Data columns (total 39 columns):\n",
      " #   Column                      Dtype  \n",
      "---  ------                      -----  \n",
      " 0   OBJECTID                    int64  \n",
      " 1   FOD_ID                      int64  \n",
      " 2   FPA_ID                      object \n",
      " 3   SOURCE_SYSTEM_TYPE          object \n",
      " 4   SOURCE_SYSTEM               object \n",
      " 5   NWCG_REPORTING_AGENCY       object \n",
      " 6   NWCG_REPORTING_UNIT_ID      object \n",
      " 7   NWCG_REPORTING_UNIT_NAME    object \n",
      " 8   SOURCE_REPORTING_UNIT       object \n",
      " 9   SOURCE_REPORTING_UNIT_NAME  object \n",
      " 10  LOCAL_FIRE_REPORT_ID        object \n",
      " 11  LOCAL_INCIDENT_ID           object \n",
      " 12  FIRE_CODE                   object \n",
      " 13  FIRE_NAME                   object \n",
      " 14  ICS_209_INCIDENT_NUMBER     object \n",
      " 15  ICS_209_NAME                object \n",
      " 16  MTBS_ID                     object \n",
      " 17  MTBS_FIRE_NAME              object \n",
      " 18  COMPLEX_NAME                object \n",
      " 19  FIRE_YEAR                   int64  \n",
      " 20  DISCOVERY_DATE              float64\n",
      " 21  DISCOVERY_DOY               int64  \n",
      " 22  DISCOVERY_TIME              object \n",
      " 23  STAT_CAUSE_CODE             float64\n",
      " 24  STAT_CAUSE_DESCR            object \n",
      " 25  CONT_DATE                   float64\n",
      " 26  CONT_DOY                    float64\n",
      " 27  CONT_TIME                   object \n",
      " 28  FIRE_SIZE                   float64\n",
      " 29  FIRE_SIZE_CLASS             object \n",
      " 30  LATITUDE                    float64\n",
      " 31  LONGITUDE                   float64\n",
      " 32  OWNER_CODE                  float64\n",
      " 33  OWNER_DESCR                 object \n",
      " 34  STATE                       object \n",
      " 35  COUNTY                      object \n",
      " 36  FIPS_CODE                   object \n",
      " 37  FIPS_NAME                   object \n",
      " 38  Shape                       object \n",
      "dtypes: float64(8), int64(4), object(27)\n",
      "memory usage: 559.5+ MB\n",
      "None\n"
     ]
    }
   ],
   "source": [
    "# Data types\n",
    "print(df.info())"
   ],
   "metadata": {
    "collapsed": false,
    "pycharm": {
     "name": "#%%\n"
    }
   }
  },
  {
   "cell_type": "code",
   "execution_count": 24,
   "outputs": [
    {
     "name": "stdout",
     "output_type": "stream",
     "text": [
      "COMPLEX_NAME                     5183\n",
      "MTBS_FIRE_NAME                  11003\n",
      "MTBS_ID                         11003\n",
      "ICS_209_NAME                    25717\n",
      "ICS_209_INCIDENT_NUMBER         25717\n",
      "FIRE_CODE                      324829\n",
      "LOCAL_FIRE_REPORT_ID           421179\n",
      "CONT_TIME                      908292\n",
      "FIRE_NAME                      923276\n",
      "CONT_DATE                      988934\n",
      "CONT_DOY                       988934\n",
      "DISCOVERY_TIME                 997827\n",
      "LOCAL_INCIDENT_ID             1059644\n",
      "FIPS_NAME                     1202317\n",
      "COUNTY                        1202317\n",
      "FIPS_CODE                     1202317\n",
      "FIRE_SIZE_CLASS               1880465\n",
      "LATITUDE                      1880465\n",
      "LONGITUDE                     1880465\n",
      "OWNER_CODE                    1880465\n",
      "OWNER_DESCR                   1880465\n",
      "STATE                         1880465\n",
      "FIRE_SIZE                     1880465\n",
      "OBJECTID                      1880465\n",
      "FIRE_YEAR                     1880465\n",
      "STAT_CAUSE_CODE               1880465\n",
      "DISCOVERY_DOY                 1880465\n",
      "DISCOVERY_DATE                1880465\n",
      "SOURCE_REPORTING_UNIT_NAME    1880465\n",
      "SOURCE_REPORTING_UNIT         1880465\n",
      "NWCG_REPORTING_UNIT_NAME      1880465\n",
      "NWCG_REPORTING_UNIT_ID        1880465\n",
      "NWCG_REPORTING_AGENCY         1880465\n",
      "SOURCE_SYSTEM                 1880465\n",
      "SOURCE_SYSTEM_TYPE            1880465\n",
      "FPA_ID                        1880465\n",
      "FOD_ID                        1880465\n",
      "STAT_CAUSE_DESCR              1880465\n",
      "Shape                         1880465\n",
      "dtype: int64\n"
     ]
    }
   ],
   "source": [
    "# Data completion\n",
    "print(df.count(axis=0).sort_values(ascending=True))"
   ],
   "metadata": {
    "collapsed": false,
    "pycharm": {
     "name": "#%%\n"
    }
   }
  },
  {
   "cell_type": "code",
   "execution_count": 26,
   "outputs": [
    {
     "name": "stdout",
     "output_type": "stream",
     "text": [
      "                                count   unique  \\\n",
      "OBJECTID                    1880465.0      NaN   \n",
      "FOD_ID                      1880465.0      NaN   \n",
      "FPA_ID                        1880465  1880462   \n",
      "SOURCE_SYSTEM_TYPE            1880465        3   \n",
      "SOURCE_SYSTEM                 1880465       38   \n",
      "NWCG_REPORTING_AGENCY         1880465       11   \n",
      "NWCG_REPORTING_UNIT_ID        1880465     1640   \n",
      "NWCG_REPORTING_UNIT_NAME      1880465     1635   \n",
      "SOURCE_REPORTING_UNIT         1880465     4992   \n",
      "SOURCE_REPORTING_UNIT_NAME    1880465     4441   \n",
      "LOCAL_FIRE_REPORT_ID           421179    13508   \n",
      "LOCAL_INCIDENT_ID             1059644   565914   \n",
      "FIRE_CODE                      324829   172446   \n",
      "FIRE_NAME                      923276   493633   \n",
      "ICS_209_INCIDENT_NUMBER         25717    22737   \n",
      "ICS_209_NAME                    25717    19573   \n",
      "MTBS_ID                         11003    10481   \n",
      "MTBS_FIRE_NAME                  11003     8133   \n",
      "COMPLEX_NAME                     5183     1416   \n",
      "FIRE_YEAR                   1880465.0      NaN   \n",
      "DISCOVERY_DATE              1880465.0      NaN   \n",
      "DISCOVERY_DOY               1880465.0      NaN   \n",
      "DISCOVERY_TIME                 997827     1440   \n",
      "STAT_CAUSE_CODE             1880465.0      NaN   \n",
      "STAT_CAUSE_DESCR              1880465       13   \n",
      "CONT_DATE                    988934.0      NaN   \n",
      "CONT_DOY                     988934.0      NaN   \n",
      "CONT_TIME                      908292     1441   \n",
      "FIRE_SIZE                   1880465.0      NaN   \n",
      "FIRE_SIZE_CLASS               1880465        7   \n",
      "LATITUDE                    1880465.0      NaN   \n",
      "LONGITUDE                   1880465.0      NaN   \n",
      "OWNER_CODE                  1880465.0      NaN   \n",
      "OWNER_DESCR                   1880465       16   \n",
      "STATE                         1880465       52   \n",
      "COUNTY                        1202317     3455   \n",
      "FIPS_CODE                     1202317      285   \n",
      "FIPS_NAME                     1202317     1698   \n",
      "Shape                         1880465  1569708   \n",
      "\n",
      "                                                                          top  \\\n",
      "OBJECTID                                                                  NaN   \n",
      "FOD_ID                                                                    NaN   \n",
      "FPA_ID                                                 SFO-2015CACDFLNU003791   \n",
      "SOURCE_SYSTEM_TYPE                                                     NONFED   \n",
      "SOURCE_SYSTEM                                                         ST-NASF   \n",
      "NWCG_REPORTING_AGENCY                                                  ST/C&L   \n",
      "NWCG_REPORTING_UNIT_ID                                                USGAGAS   \n",
      "NWCG_REPORTING_UNIT_NAME                          Georgia Forestry Commission   \n",
      "SOURCE_REPORTING_UNIT                                                   GAGAS   \n",
      "SOURCE_REPORTING_UNIT_NAME                        Georgia Forestry Commission   \n",
      "LOCAL_FIRE_REPORT_ID                                                      001   \n",
      "LOCAL_INCIDENT_ID                                                         001   \n",
      "FIRE_CODE                                                                D44Z   \n",
      "FIRE_NAME                                                          GRASS FIRE   \n",
      "ICS_209_INCIDENT_NUMBER                                         OK-OSA-100020   \n",
      "ICS_209_NAME                                              OSAGE-MIAMI COMPLEX   \n",
      "MTBS_ID                                                 KY3686008359020011102   \n",
      "MTBS_FIRE_NAME                                                        UNNAMED   \n",
      "COMPLEX_NAME                                              OSAGE-MIAMI COMPLEX   \n",
      "FIRE_YEAR                                                                 NaN   \n",
      "DISCOVERY_DATE                                                            NaN   \n",
      "DISCOVERY_DOY                                                             NaN   \n",
      "DISCOVERY_TIME                                                           1400   \n",
      "STAT_CAUSE_CODE                                                           NaN   \n",
      "STAT_CAUSE_DESCR                                               Debris Burning   \n",
      "CONT_DATE                                                                 NaN   \n",
      "CONT_DOY                                                                  NaN   \n",
      "CONT_TIME                                                                1800   \n",
      "FIRE_SIZE                                                                 NaN   \n",
      "FIRE_SIZE_CLASS                                                             B   \n",
      "LATITUDE                                                                  NaN   \n",
      "LONGITUDE                                                                 NaN   \n",
      "OWNER_CODE                                                                NaN   \n",
      "OWNER_DESCR                                             MISSING/NOT SPECIFIED   \n",
      "STATE                                                                      CA   \n",
      "COUNTY                                                                      5   \n",
      "FIPS_CODE                                                                 005   \n",
      "FIPS_NAME                                                          Washington   \n",
      "Shape                       b'\\x00\\x01\\xad\\x10\\x00\\x00\\xb0\\xd19?\\xc5\\x8fP\\...   \n",
      "\n",
      "                               freq             mean               std  \\\n",
      "OBJECTID                        NaN         940233.0     542843.631313   \n",
      "FOD_ID                          NaN  54840199.023961  101196328.606888   \n",
      "FPA_ID                            2              NaN               NaN   \n",
      "SOURCE_SYSTEM_TYPE          1362148              NaN               NaN   \n",
      "SOURCE_SYSTEM                711236              NaN               NaN   \n",
      "NWCG_REPORTING_AGENCY       1377090              NaN               NaN   \n",
      "NWCG_REPORTING_UNIT_ID       167123              NaN               NaN   \n",
      "NWCG_REPORTING_UNIT_NAME     167123              NaN               NaN   \n",
      "SOURCE_REPORTING_UNIT         97844              NaN               NaN   \n",
      "SOURCE_REPORTING_UNIT_NAME    97844              NaN               NaN   \n",
      "LOCAL_FIRE_REPORT_ID           8189              NaN               NaN   \n",
      "LOCAL_INCIDENT_ID              3839              NaN               NaN   \n",
      "FIRE_CODE                      9451              NaN               NaN   \n",
      "FIRE_NAME                      3983              NaN               NaN   \n",
      "ICS_209_INCIDENT_NUMBER          53              NaN               NaN   \n",
      "ICS_209_NAME                     53              NaN               NaN   \n",
      "MTBS_ID                          12              NaN               NaN   \n",
      "MTBS_FIRE_NAME                  752              NaN               NaN   \n",
      "COMPLEX_NAME                     54              NaN               NaN   \n",
      "FIRE_YEAR                       NaN      2003.709974          6.663099   \n",
      "DISCOVERY_DATE                  NaN   2453063.657027       2434.573159   \n",
      "DISCOVERY_DOY                   NaN       164.719145         90.038909   \n",
      "DISCOVERY_TIME                20981              NaN               NaN   \n",
      "STAT_CAUSE_CODE                 NaN         5.979037           3.48386   \n",
      "STAT_CAUSE_DESCR             429028              NaN               NaN   \n",
      "CONT_DATE                       NaN   2453237.753297       2687.547698   \n",
      "CONT_DOY                        NaN       172.656766         84.320348   \n",
      "CONT_TIME                     38078              NaN               NaN   \n",
      "FIRE_SIZE                       NaN        74.520158        2497.59818   \n",
      "FIRE_SIZE_CLASS              939376              NaN               NaN   \n",
      "LATITUDE                        NaN        36.781213          6.139031   \n",
      "LONGITUDE                       NaN       -95.704942         16.716944   \n",
      "OWNER_CODE                      NaN        10.596578          4.404662   \n",
      "OWNER_DESCR                 1050835              NaN               NaN   \n",
      "STATE                        189550              NaN               NaN   \n",
      "COUNTY                         7576              NaN               NaN   \n",
      "FIPS_CODE                     29069              NaN               NaN   \n",
      "FIPS_NAME                     11014              NaN               NaN   \n",
      "Shape                           571              NaN               NaN   \n",
      "\n",
      "                                  min         25%        50%         75%  \\\n",
      "OBJECTID                          1.0    470117.0   940233.0   1410349.0   \n",
      "FOD_ID                            1.0    505500.0  1067761.0  19106386.0   \n",
      "FPA_ID                            NaN         NaN        NaN         NaN   \n",
      "SOURCE_SYSTEM_TYPE                NaN         NaN        NaN         NaN   \n",
      "SOURCE_SYSTEM                     NaN         NaN        NaN         NaN   \n",
      "NWCG_REPORTING_AGENCY             NaN         NaN        NaN         NaN   \n",
      "NWCG_REPORTING_UNIT_ID            NaN         NaN        NaN         NaN   \n",
      "NWCG_REPORTING_UNIT_NAME          NaN         NaN        NaN         NaN   \n",
      "SOURCE_REPORTING_UNIT             NaN         NaN        NaN         NaN   \n",
      "SOURCE_REPORTING_UNIT_NAME        NaN         NaN        NaN         NaN   \n",
      "LOCAL_FIRE_REPORT_ID              NaN         NaN        NaN         NaN   \n",
      "LOCAL_INCIDENT_ID                 NaN         NaN        NaN         NaN   \n",
      "FIRE_CODE                         NaN         NaN        NaN         NaN   \n",
      "FIRE_NAME                         NaN         NaN        NaN         NaN   \n",
      "ICS_209_INCIDENT_NUMBER           NaN         NaN        NaN         NaN   \n",
      "ICS_209_NAME                      NaN         NaN        NaN         NaN   \n",
      "MTBS_ID                           NaN         NaN        NaN         NaN   \n",
      "MTBS_FIRE_NAME                    NaN         NaN        NaN         NaN   \n",
      "COMPLEX_NAME                      NaN         NaN        NaN         NaN   \n",
      "FIRE_YEAR                      1992.0      1998.0     2004.0      2009.0   \n",
      "DISCOVERY_DATE              2448622.5   2451084.5  2453177.5   2455035.5   \n",
      "DISCOVERY_DOY                     1.0        89.0      164.0       230.0   \n",
      "DISCOVERY_TIME                    NaN         NaN        NaN         NaN   \n",
      "STAT_CAUSE_CODE                   1.0         3.0        5.0         9.0   \n",
      "STAT_CAUSE_DESCR                  NaN         NaN        NaN         NaN   \n",
      "CONT_DATE                   2448622.5  2450700.75  2453466.5   2455753.5   \n",
      "CONT_DOY                          1.0       102.0      181.0       232.0   \n",
      "CONT_TIME                         NaN         NaN        NaN         NaN   \n",
      "FIRE_SIZE                     0.00001         0.1        1.0         3.3   \n",
      "FIRE_SIZE_CLASS                   NaN         NaN        NaN         NaN   \n",
      "LATITUDE                    17.939722     32.8186    35.4525     40.8272   \n",
      "LONGITUDE                   -178.8026  -110.36347 -92.043043    -82.2976   \n",
      "OWNER_CODE                        0.0         8.0       14.0        14.0   \n",
      "OWNER_DESCR                       NaN         NaN        NaN         NaN   \n",
      "STATE                             NaN         NaN        NaN         NaN   \n",
      "COUNTY                            NaN         NaN        NaN         NaN   \n",
      "FIPS_CODE                         NaN         NaN        NaN         NaN   \n",
      "FIPS_NAME                         NaN         NaN        NaN         NaN   \n",
      "Shape                             NaN         NaN        NaN         NaN   \n",
      "\n",
      "                                    max  \n",
      "OBJECTID                      1880465.0  \n",
      "FOD_ID                      300348399.0  \n",
      "FPA_ID                              NaN  \n",
      "SOURCE_SYSTEM_TYPE                  NaN  \n",
      "SOURCE_SYSTEM                       NaN  \n",
      "NWCG_REPORTING_AGENCY               NaN  \n",
      "NWCG_REPORTING_UNIT_ID              NaN  \n",
      "NWCG_REPORTING_UNIT_NAME            NaN  \n",
      "SOURCE_REPORTING_UNIT               NaN  \n",
      "SOURCE_REPORTING_UNIT_NAME          NaN  \n",
      "LOCAL_FIRE_REPORT_ID                NaN  \n",
      "LOCAL_INCIDENT_ID                   NaN  \n",
      "FIRE_CODE                           NaN  \n",
      "FIRE_NAME                           NaN  \n",
      "ICS_209_INCIDENT_NUMBER             NaN  \n",
      "ICS_209_NAME                        NaN  \n",
      "MTBS_ID                             NaN  \n",
      "MTBS_FIRE_NAME                      NaN  \n",
      "COMPLEX_NAME                        NaN  \n",
      "FIRE_YEAR                        2015.0  \n",
      "DISCOVERY_DATE                2457387.5  \n",
      "DISCOVERY_DOY                     366.0  \n",
      "DISCOVERY_TIME                      NaN  \n",
      "STAT_CAUSE_CODE                    13.0  \n",
      "STAT_CAUSE_DESCR                    NaN  \n",
      "CONT_DATE                     2457391.5  \n",
      "CONT_DOY                          366.0  \n",
      "CONT_TIME                           NaN  \n",
      "FIRE_SIZE                      606945.0  \n",
      "FIRE_SIZE_CLASS                     NaN  \n",
      "LATITUDE                        70.3306  \n",
      "LONGITUDE                    -65.256944  \n",
      "OWNER_CODE                         15.0  \n",
      "OWNER_DESCR                         NaN  \n",
      "STATE                               NaN  \n",
      "COUNTY                              NaN  \n",
      "FIPS_CODE                           NaN  \n",
      "FIPS_NAME                           NaN  \n",
      "Shape                               NaN  \n"
     ]
    }
   ],
   "source": [
    "# Data completion\n",
    "print(df.describe(include=\"all\").T)"
   ],
   "metadata": {
    "collapsed": false,
    "pycharm": {
     "name": "#%%\n"
    }
   }
  },
  {
   "cell_type": "code",
   "execution_count": null,
   "outputs": [],
   "source": [
    "# close the sqlite database connection\n",
    "con.close()"
   ],
   "metadata": {
    "collapsed": false,
    "pycharm": {
     "name": "#%%\n"
    }
   }
  },
  {
   "cell_type": "code",
   "execution_count": null,
   "outputs": [],
   "source": [],
   "metadata": {
    "collapsed": false,
    "pycharm": {
     "name": "#%%\n"
    }
   }
  }
 ],
 "metadata": {
  "kernelspec": {
   "display_name": "Python 3",
   "language": "python",
   "name": "python3"
  },
  "language_info": {
   "codemirror_mode": {
    "name": "ipython",
    "version": 2
   },
   "file_extension": ".py",
   "mimetype": "text/x-python",
   "name": "python",
   "nbconvert_exporter": "python",
   "pygments_lexer": "ipython2",
   "version": "2.7.6"
  }
 },
 "nbformat": 4,
 "nbformat_minor": 0
}